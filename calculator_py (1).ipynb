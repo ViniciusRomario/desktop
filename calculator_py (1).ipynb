{
  "nbformat": 4,
  "nbformat_minor": 0,
  "metadata": {
    "colab": {
      "provenance": []
    },
    "kernelspec": {
      "name": "python3",
      "display_name": "Python 3"
    },
    "language_info": {
      "name": "python"
    }
  },
  "cells": [
    {
      "cell_type": "code",
      "execution_count": null,
      "metadata": {
        "id": "C1jbjMIXlKdJ"
      },
      "outputs": [],
      "source": [
        "number_1 = int(input('Insira o primeiro numero: '))\n",
        "number_2 = int(input('Insira o segundo numero: '))\n",
        "\n",
        "#Opções de operações\n",
        "print(\"Selecione a operação desejada\")\n",
        "print('1 - Adição')\n",
        "print('2 - Subtração')\n",
        "print('3 - Multiplicação')\n",
        "print('4 - Divisão')\n",
        "print('5 - Potencia')\n",
        "\n",
        "#Insira a opção\n",
        "opcao = input(\"Digite a operação desejada\")\n",
        "\n",
        "if opcao == '1':\n",
        "  resultado = number_1 + number_2\n",
        "  print(f\"O resultado da soma é: {resultado}\\n\")\n",
        "\n",
        "if opcao == '2':\n",
        "  resultado = number_1 - number_2\n",
        "  print(f\"O resultado da subtração é: {resultado}\\n\")\n",
        "\n",
        "if opcao == '3':\n",
        "  resultado = number_1 * number_2\n",
        "  print(f\"O resultado da multiplicação é: {resultado}\\n\")\n",
        "\n",
        "if opcao == '4':\n",
        "  resultado = number_1 / number_2\n",
        "  print(f\"O resultado da divisão é: {resultado}\\n\")\n",
        "\n",
        "if opcao == '5':\n",
        "  resultado = number_1 ** number_2\n",
        "  print(f\"O resultado da potencia é: {resultado}\\n\")"
      ]
    },
    {
      "cell_type": "code",
      "source": [
        "\n"
      ],
      "metadata": {
        "id": "nxJxmkCzpv_L"
      },
      "execution_count": 1,
      "outputs": []
    }
  ]
}